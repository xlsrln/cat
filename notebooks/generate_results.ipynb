{
  "nbformat": 4,
  "nbformat_minor": 0,
  "metadata": {
    "colab": {
      "provenance": []
    },
    "kernelspec": {
      "name": "python3",
      "display_name": "Python 3"
    },
    "language_info": {
      "name": "python"
    }
  },
  "cells": [
    {
      "cell_type": "code",
      "source": [
        "!mkdir results"
      ],
      "metadata": {
        "colab": {
          "base_uri": "https://localhost:8080/"
        },
        "id": "GwBlx3rWFo84",
        "outputId": "3224074c-d65a-4d2d-8fe0-c3d02555d0c1"
      },
      "execution_count": 1,
      "outputs": [
        {
          "output_type": "stream",
          "name": "stdout",
          "text": [
            "mkdir: cannot create directory ‘results’: File exists\n"
          ]
        }
      ]
    },
    {
      "cell_type": "code",
      "source": [
        "from google.colab import auth\n",
        "auth.authenticate_user()\n",
        "\n",
        "import gspread\n",
        "from google.auth import default\n",
        "creds, _ = default()\n",
        "\n",
        "gc = gspread.authorize(creds)\n",
        "\n",
        "import pandas as pd\n",
        "\n",
        "gsheets = gc.open_by_url('https://docs.google.com/spreadsheets/d/12_IDpgV2_QsGX0IL8x5bCpNDkVbFELVJgW2va6oNWhs')"
      ],
      "metadata": {
        "id": "b9Nsw0f5sPgM"
      },
      "execution_count": 2,
      "outputs": []
    },
    {
      "cell_type": "code",
      "source": [
        "out_string = \"\"\"\n",
        "# Results\n",
        "\n",
        "## japan asphalt rally (warmup event)\n",
        "\n",
        "Congratulations to Wes, turbo and KK for rounding out the podium!\n",
        "\n",
        "| rank | name              | min     | link                                         |\n",
        "| ---- | ----------------- | ------- | -------------------------------------------- |\n",
        "| 1.   | Wesley Daggleston | 08:46.7 | https://youtu.be/yrHIN4VkbfM                 |\n",
        "| 2.   | turbo             | 08:50.3 | https://youtu.be/PXC8I5Oxz9U                 |\n",
        "| 3.   | kk                | 08:51.6 | https://youtu.be/55p4QR5be0k                 |\n",
        "| 4.   | Hulter            | 08:56.1 | https://youtu.be/-g5NBrjKzA8                 |\n",
        "| 5.   | nept              | 08:58.5 | https://www.youtube.com/watch?v=en_yPK5yPG0 |\n",
        "| 6.   | Red Sun           | 09:00.1 | https://www.twitch.tv/videos/1607608745      |\n",
        "| 7.   | capablanca\t   | 09:11.3 | https://youtu.be/yhjtPe59kZg\n",
        "| 8.   | domer             | 09:12.8 | https://youtu.be/rBMY4pOHQu8                 |\n",
        "| 9.   | MxCraven          | 09:43.8 | https://www.twitch.tv/videos/1607365265      |\n",
        "|10.   | nap               | 09:50.5 | https://www.youtube.com/watch?v=OjfTEOvrbTY  |\n",
        "\"\"\"\n",
        "\n",
        "comments = [\n",
        "    \"Well done Proporo!\",\n",
        "    \"\",\n",
        "    \"\",\n",
        "    \"\",\n",
        "]"
      ],
      "metadata": {
        "id": "SO4idkkv3vw3"
      },
      "execution_count": 3,
      "outputs": []
    },
    {
      "cell_type": "code",
      "source": [
        "rallies = ['indonesia', 'kenya', 'germany', 'sardinia']"
      ],
      "metadata": {
        "id": "VwbCDB8ey4Yl"
      },
      "execution_count": 4,
      "outputs": []
    },
    {
      "cell_type": "code",
      "source": [
        "points_ladder = [20,15,12,10,8,6,4,3,2,1]\n",
        "ps_ladder = [4,3,2,1]\n",
        "\n",
        "def rally_points(pos):\n",
        "    if pos <= 10:\n",
        "        return points_ladder[round(pos) - 1]\n",
        "    else:\n",
        "        return 0\n",
        "\n",
        "def ps_points(pos):\n",
        "    if pos <= 4:\n",
        "        return ps_ladder[round(pos) - 1]\n",
        "    else:\n",
        "        return 0\n"
      ],
      "metadata": {
        "id": "Y4GmO1iMtfrz"
      },
      "execution_count": 5,
      "outputs": []
    },
    {
      "cell_type": "code",
      "source": [
        "sheets = gsheets.worksheet('teams').get_all_values()\n",
        "\n",
        "team_df = pd.DataFrame(sheets[0:], columns=sheets[0]).query('team != \" \"')\n",
        "\n",
        "team_df = team_df[['name', 'team']]"
      ],
      "metadata": {
        "id": "TMJBaIZhGqOQ"
      },
      "execution_count": 6,
      "outputs": []
    },
    {
      "cell_type": "code",
      "source": [
        "standings = 0\n",
        "n=0\n",
        "\n",
        "for rally in rallies:\n",
        "\n",
        "    sheets = gsheets.worksheet(rally).get_all_values()\n",
        "    df = pd.DataFrame(sheets[3:], columns=sheets[2]).query('rank != \"\"')\n",
        "\n",
        "    results = df[['name', 'min time', 'power stage', 'link']]\n",
        "    results.columns = ['name', 'time', 'powerstage', 'link']\n",
        "\n",
        "    results = results.merge(team_df, on='name', how='left').fillna(\"\")\n",
        "\n",
        "    results['pos'] = results['time'].rank()\n",
        "    results['pspos'] = results['powerstage'].rank()\n",
        "    results['rally'] = results.pos.apply(rally_points)\n",
        "    results['ps'] = results.pspos.apply(ps_points)\n",
        "    results['points'] = (results.rally + results.ps).astype(int)\n",
        "\n",
        "    results = results[['pos', 'name', 'time', 'powerstage', 'link', 'rally', 'ps', 'points', 'team']]   \n",
        "    results.to_markdown('results/' + rally + '.md', index=False)\n",
        "\n",
        "    out_string += '\\n' + '## ' + rally\n",
        "    out_string += '\\n' + comments[n]\n",
        "    out_string += '\\n' + results.to_markdown(index=False)\n",
        "\n",
        "    if type(standings) == int:\n",
        "        standings = results[['name', 'points']].rename(columns={'points': rally})\n",
        "    else:\n",
        "        standings = standings.merge(\n",
        "            results.rename(columns={'points': rally})[['name', rally]], \n",
        "            on='name',\n",
        "            how='left'\n",
        "        )\n",
        "    \n",
        "    n += 1\n",
        "\n",
        "\n",
        "standings['total'] = standings[rallies].fillna(0).sum(axis=1) - standings[rallies].fillna(0).min(axis=1)\n",
        "\n",
        "standings = standings.sort_values(by='total', ascending=False)\n",
        "\n",
        "standings.to_markdown('results/' + 'standings.md', index=False)\n",
        "out_string += '\\n' + \"## standings\"\n",
        "out_string += '\\n' + standings.fillna('-').to_markdown(index=False)\n",
        "\n"
      ],
      "metadata": {
        "id": "lsBuwu4Frli8"
      },
      "execution_count": 14,
      "outputs": []
    },
    {
      "cell_type": "markdown",
      "source": [
        "# team standings"
      ],
      "metadata": {
        "id": "CFlhWQVOEUhQ"
      }
    },
    {
      "cell_type": "code",
      "source": [
        "team_standings = standings.merge(team_df, on='name')\n",
        "\n",
        "for r in rallies:\n",
        "    team_standings[\"t_\" + r] = team_standings.groupby(\"team\")[r].rank(ascending=False, method='dense')\n",
        "\n",
        "    team_standings[\"t2_\" + r] = (\n",
        "        team_standings[\"t_\" + r]\n",
        "        .apply(lambda x : 1 if x < 3 else 0) \n",
        "        * team_standings[r].apply(lambda x : None if x == 0 else x).rank(ascending=False)\n",
        "    ).apply(rally_points)\n",
        "\n",
        "team_standings = team_standings.groupby('team')[rallies + ['total']].sum().sort_values(by='total', ascending=False).reset_index()\n",
        "\n",
        "print(team_standings)"
      ],
      "metadata": {
        "colab": {
          "base_uri": "https://localhost:8080/"
        },
        "id": "fSi2sgdv93-v",
        "outputId": "612b301f-c83e-4151-88e9-5efcb551f1e8"
      },
      "execution_count": 15,
      "outputs": [
        {
          "output_type": "stream",
          "name": "stdout",
          "text": [
            "                team  indonesia  kenya  germany  sardinia  total\n",
            "0   cat face nospace         30    0.0      0.0       0.0   30.0\n",
            "1         g2d racing         28    0.0      0.0       0.0   28.0\n",
            "2  Brick Motorsports         16    0.0      0.0       0.0   16.0\n"
          ]
        }
      ]
    },
    {
      "cell_type": "code",
      "source": [
        "team_standings.to_markdown('results/team_standings.md', index=False)"
      ],
      "metadata": {
        "id": "wrlr6BZoFGKH"
      },
      "execution_count": 16,
      "outputs": []
    },
    {
      "cell_type": "code",
      "source": [
        "out_string += '\\n' + \"## team standings\"\n",
        "out_string += '\\n' + team_standings.to_markdown(index=False)"
      ],
      "metadata": {
        "id": "KozkF-G2Epj4"
      },
      "execution_count": 17,
      "outputs": []
    },
    {
      "cell_type": "code",
      "source": [
        "print(out_string)"
      ],
      "metadata": {
        "colab": {
          "base_uri": "https://localhost:8080/"
        },
        "id": "zvgQ5cSHFuep",
        "outputId": "ba056915-b02d-46e0-daf4-8f7da6d2899f"
      },
      "execution_count": 18,
      "outputs": [
        {
          "output_type": "stream",
          "name": "stdout",
          "text": [
            "\n",
            "# Results\n",
            "\n",
            "## japan asphalt rally (warmup event)\n",
            "\n",
            "Congratulations to Wes, turbo and KK for rounding out the podium!\n",
            "\n",
            "| rank | name              | min     | link                                         |\n",
            "| ---- | ----------------- | ------- | -------------------------------------------- |\n",
            "| 1.   | Wesley Daggleston | 08:46.7 | https://youtu.be/yrHIN4VkbfM                 |\n",
            "| 2.   | turbo             | 08:50.3 | https://youtu.be/PXC8I5Oxz9U                 |\n",
            "| 3.   | kk                | 08:51.6 | https://youtu.be/55p4QR5be0k                 |\n",
            "| 4.   | Hulter            | 08:56.1 | https://youtu.be/-g5NBrjKzA8                 |\n",
            "| 5.   | nept              | 08:58.5 | https://www.youtube.com/watch?v=en_yPK5yPG0 |\n",
            "| 6.   | Red Sun           | 09:00.1 | https://www.twitch.tv/videos/1607608745      |\n",
            "| 7.   | capablanca\t   | 09:11.3 | https://youtu.be/yhjtPe59kZg\n",
            "| 8.   | domer             | 09:12.8 | https://youtu.be/rBMY4pOHQu8                 |\n",
            "| 9.   | MxCraven          | 09:43.8 | https://www.twitch.tv/videos/1607365265      |\n",
            "|10.   | nap               | 09:50.5 | https://www.youtube.com/watch?v=OjfTEOvrbTY  |\n",
            "\n",
            "## indonesia\n",
            "Well done Proporo!\n",
            "|   pos | name              | time    | powerstage   | link                                                          |   rally |   ps |   points | team              |\n",
            "|------:|:------------------|:--------|:-------------|:--------------------------------------------------------------|--------:|-----:|---------:|:------------------|\n",
            "|     1 | Proporo           | 12:33.3 | 01:03.2      | https://youtu.be/tSuLEyKSEns                                  |      20 |    2 |       22 | cat face nospace  |\n",
            "|     2 | Myth              | 12:38.0 | 01:02.0      | https://youtu.be/tQipaK_-5Qc                                  |      15 |    4 |       19 | g2d racing        |\n",
            "|     3 | Wesley Daggleston | 12:39.9 | 01:02.6      | https://youtu.be/Bt6dVuNJp2I                                  |      12 |    3 |       15 | Brick Motorsports |\n",
            "|     4 | Get Goblinated    | 12:43.5 | 01:03.6      | https://youtu.be/1vpcnS4CMng                                  |      10 |    0 |       10 |                   |\n",
            "|     5 | turbo             | 12:48.4 | 01:03.5      | https://youtu.be/3HKmLByop2M                                  |       8 |    1 |        9 | g2d racing        |\n",
            "|     6 | Hulter            | 12:53.5 | 01:05.7      | https://youtu.be/eQN9zB_f8e0                                  |       6 |    0 |        6 | cat face nospace  |\n",
            "|     7 | kk                | 12:54.1 | 01:14.3      | https://youtu.be/qU3JJFxTQj8                                  |       4 |    0 |        4 |                   |\n",
            "|     8 | domer             | 12:54.6 | 01:03.6      | https://youtu.be/04p2Knodb28                                  |       3 |    0 |        3 |                   |\n",
            "|     9 | nept              | 13:03.7 | 01:05.2      | https://youtu.be/5HnW0nAbP9o                                  |       2 |    0 |        2 | cat face nospace  |\n",
            "|    10 | Red Sun           | 13:05.8 | 01:06.5      | https://www.twitch.tv/videos/1625302480                       |       1 |    0 |        1 | Brick Motorsports |\n",
            "|    11 | capablanca        | 13:06.0 | 01:05.8      | https://youtu.be/5u1xOOkOEfs                                  |       0 |    0 |        0 | g2d racing        |\n",
            "|    12 | Farxin            | 13:36.2 | 01:09.6      | https://www.youtube.com/watch?v=BRVlcqtiS_Y&ab_channel=Farxin |       0 |    0 |        0 |                   |\n",
            "|    13 | MxCraven          | 13:48.0 | 01:11.9      | https://www.twitch.tv/videos/1626051751                       |       0 |    0 |        0 |                   |\n",
            "|    14 | Kariston          | 14:05.6 | 01:09.8      | https://youtu.be/hhwG2qE9TtI                                  |       0 |    0 |        0 | g2d racing        |\n",
            "|    15 | nap               | 14:22.0 | 01:11.1      | https://youtu.be/6-MwbFOtXYc                                  |       0 |    0 |        0 |                   |\n",
            "|    16 | Revenger210       | 15:43.8 | 01:25.0      | https://www.youtube.com/watch?v=Hr2ctY4ZnlA                   |       0 |    0 |        0 |                   |\n",
            "## kenya\n",
            "\n",
            "| pos   | name   | time   | powerstage   | link   | rally   | ps   | points   | team   |\n",
            "|-------|--------|--------|--------------|--------|---------|------|----------|--------|\n",
            "## germany\n",
            "\n",
            "| pos   | name   | time   | powerstage   | link   | rally   | ps   | points   | team   |\n",
            "|-------|--------|--------|--------------|--------|---------|------|----------|--------|\n",
            "## sardinia\n",
            "\n",
            "| pos   | name   | time   | powerstage   | link   | rally   | ps   | points   | team   |\n",
            "|-------|--------|--------|--------------|--------|---------|------|----------|--------|\n",
            "## standings\n",
            "| name              |   indonesia | kenya   | germany   | sardinia   |   total |\n",
            "|:------------------|------------:|:--------|:----------|:-----------|--------:|\n",
            "| Proporo           |          22 | -       | -         | -          |       0 |\n",
            "| Myth              |          19 | -       | -         | -          |       0 |\n",
            "| Wesley Daggleston |          15 | -       | -         | -          |       0 |\n",
            "| Get Goblinated    |          10 | -       | -         | -          |       0 |\n",
            "| turbo             |           9 | -       | -         | -          |       0 |\n",
            "| Hulter            |           6 | -       | -         | -          |       0 |\n",
            "| kk                |           4 | -       | -         | -          |       0 |\n",
            "| domer             |           3 | -       | -         | -          |       0 |\n",
            "| nept              |           2 | -       | -         | -          |       0 |\n",
            "| Red Sun           |           1 | -       | -         | -          |       0 |\n",
            "| capablanca        |           0 | -       | -         | -          |       0 |\n",
            "| Farxin            |           0 | -       | -         | -          |       0 |\n",
            "| MxCraven          |           0 | -       | -         | -          |       0 |\n",
            "| Kariston          |           0 | -       | -         | -          |       0 |\n",
            "| nap               |           0 | -       | -         | -          |       0 |\n",
            "| Revenger210       |           0 | -       | -         | -          |       0 |\n",
            "## team standings\n",
            "| team              |   indonesia |   kenya |   germany |   sardinia |   total |\n",
            "|:------------------|------------:|--------:|----------:|-----------:|--------:|\n",
            "| Brick Motorsports |          16 |       0 |         0 |          0 |       0 |\n",
            "| cat face nospace  |          30 |       0 |         0 |          0 |       0 |\n",
            "| g2d racing        |          28 |       0 |         0 |          0 |       0 |\n",
            "## indonesia\n",
            "Well done Proporo!\n",
            "|   pos | name              | time    | powerstage   | link                                                          |   rally |   ps |   points | team              |\n",
            "|------:|:------------------|:--------|:-------------|:--------------------------------------------------------------|--------:|-----:|---------:|:------------------|\n",
            "|     1 | Proporo           | 12:33.3 | 01:03.2      | https://youtu.be/tSuLEyKSEns                                  |      20 |    2 |       22 | cat face nospace  |\n",
            "|     2 | Myth              | 12:38.0 | 01:02.0      | https://youtu.be/tQipaK_-5Qc                                  |      15 |    4 |       19 | g2d racing        |\n",
            "|     3 | Wesley Daggleston | 12:39.9 | 01:02.6      | https://youtu.be/Bt6dVuNJp2I                                  |      12 |    3 |       15 | Brick Motorsports |\n",
            "|     4 | Get Goblinated    | 12:43.5 | 01:03.6      | https://youtu.be/1vpcnS4CMng                                  |      10 |    0 |       10 |                   |\n",
            "|     5 | turbo             | 12:48.4 | 01:03.5      | https://youtu.be/3HKmLByop2M                                  |       8 |    1 |        9 | g2d racing        |\n",
            "|     6 | Hulter            | 12:53.5 | 01:05.7      | https://youtu.be/eQN9zB_f8e0                                  |       6 |    0 |        6 | cat face nospace  |\n",
            "|     7 | kk                | 12:54.1 | 01:14.3      | https://youtu.be/qU3JJFxTQj8                                  |       4 |    0 |        4 |                   |\n",
            "|     8 | domer             | 12:54.6 | 01:03.6      | https://youtu.be/04p2Knodb28                                  |       3 |    0 |        3 |                   |\n",
            "|     9 | nept              | 13:03.7 | 01:05.2      | https://youtu.be/5HnW0nAbP9o                                  |       2 |    0 |        2 | cat face nospace  |\n",
            "|    10 | Red Sun           | 13:05.8 | 01:06.5      | https://www.twitch.tv/videos/1625302480                       |       1 |    0 |        1 | Brick Motorsports |\n",
            "|    11 | capablanca        | 13:06.0 | 01:05.8      | https://youtu.be/5u1xOOkOEfs                                  |       0 |    0 |        0 | g2d racing        |\n",
            "|    12 | Farxin            | 13:36.2 | 01:09.6      | https://www.youtube.com/watch?v=BRVlcqtiS_Y&ab_channel=Farxin |       0 |    0 |        0 |                   |\n",
            "|    13 | MxCraven          | 13:48.0 | 01:11.9      | https://www.twitch.tv/videos/1626051751                       |       0 |    0 |        0 |                   |\n",
            "|    14 | Kariston          | 14:05.6 | 01:09.8      | https://youtu.be/hhwG2qE9TtI                                  |       0 |    0 |        0 | g2d racing        |\n",
            "|    15 | nap               | 14:22.0 | 01:11.1      | https://youtu.be/6-MwbFOtXYc                                  |       0 |    0 |        0 |                   |\n",
            "|    16 | Revenger210       | 15:43.8 | 01:25.0      | https://www.youtube.com/watch?v=Hr2ctY4ZnlA                   |       0 |    0 |        0 |                   |\n",
            "## kenya\n",
            "\n",
            "| pos   | name   | time   | powerstage   | link   | rally   | ps   | points   | team   |\n",
            "|-------|--------|--------|--------------|--------|---------|------|----------|--------|\n",
            "## germany\n",
            "\n",
            "| pos   | name   | time   | powerstage   | link   | rally   | ps   | points   | team   |\n",
            "|-------|--------|--------|--------------|--------|---------|------|----------|--------|\n",
            "## sardinia\n",
            "\n",
            "| pos   | name   | time   | powerstage   | link   | rally   | ps   | points   | team   |\n",
            "|-------|--------|--------|--------------|--------|---------|------|----------|--------|\n",
            "## standings\n",
            "| name              |   indonesia | kenya   | germany   | sardinia   |   total |\n",
            "|:------------------|------------:|:--------|:----------|:-----------|--------:|\n",
            "| Proporo           |          22 | -       | -         | -          |      22 |\n",
            "| Myth              |          19 | -       | -         | -          |      19 |\n",
            "| Wesley Daggleston |          15 | -       | -         | -          |      15 |\n",
            "| Get Goblinated    |          10 | -       | -         | -          |      10 |\n",
            "| turbo             |           9 | -       | -         | -          |       9 |\n",
            "| Hulter            |           6 | -       | -         | -          |       6 |\n",
            "| kk                |           4 | -       | -         | -          |       4 |\n",
            "| domer             |           3 | -       | -         | -          |       3 |\n",
            "| nept              |           2 | -       | -         | -          |       2 |\n",
            "| Red Sun           |           1 | -       | -         | -          |       1 |\n",
            "| capablanca        |           0 | -       | -         | -          |       0 |\n",
            "| Farxin            |           0 | -       | -         | -          |       0 |\n",
            "| MxCraven          |           0 | -       | -         | -          |       0 |\n",
            "| Kariston          |           0 | -       | -         | -          |       0 |\n",
            "| nap               |           0 | -       | -         | -          |       0 |\n",
            "| Revenger210       |           0 | -       | -         | -          |       0 |\n",
            "## team standings\n",
            "| team              |   indonesia |   kenya |   germany |   sardinia |   total |\n",
            "|:------------------|------------:|--------:|----------:|-----------:|--------:|\n",
            "| cat face nospace  |          30 |       0 |         0 |          0 |      30 |\n",
            "| g2d racing        |          28 |       0 |         0 |          0 |      28 |\n",
            "| Brick Motorsports |          16 |       0 |         0 |          0 |      16 |\n"
          ]
        }
      ]
    },
    {
      "cell_type": "markdown",
      "source": [
        "# update sheet"
      ],
      "metadata": {
        "id": "XBvwYJB5HBsk"
      }
    },
    {
      "cell_type": "code",
      "source": [
        "stand_sheet = gsheets.worksheet('standings')\n",
        "\n",
        "for y in range(standings.shape[1]):\n",
        "\n",
        "    stand_sheet.update_cell(1, y+1, str(list(standings.columns)[y]))\n",
        "\n",
        "    for x in range(standings.shape[0]):\n",
        "        stand_sheet.update_cell(x+2, y+1, str(standings.iloc[x,y]))"
      ],
      "metadata": {
        "id": "g9B5nY-7vZ3E"
      },
      "execution_count": 19,
      "outputs": []
    },
    {
      "cell_type": "code",
      "source": [
        "team_stand = gsheets.worksheet('team_standings')\n",
        "\n",
        "for y in range(team_standings.shape[1]):\n",
        "\n",
        "    team_stand.update_cell(1, y+1, str(list(team_standings.columns)[y]))\n",
        "\n",
        "    for x in range(team_standings.shape[0]):\n",
        "        team_stand.update_cell(x+2, y+1, str(team_standings.iloc[x,y]))"
      ],
      "metadata": {
        "id": "VRflK54EDtpg"
      },
      "execution_count": 20,
      "outputs": []
    },
    {
      "cell_type": "code",
      "source": [],
      "metadata": {
        "id": "sLfk3PclFANw"
      },
      "execution_count": 13,
      "outputs": []
    }
  ]
}