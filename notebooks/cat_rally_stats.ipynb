{
  "nbformat": 4,
  "nbformat_minor": 0,
  "metadata": {
    "colab": {
      "provenance": []
    },
    "kernelspec": {
      "name": "python3",
      "display_name": "Python 3"
    },
    "language_info": {
      "name": "python"
    }
  },
  "cells": [
    {
      "cell_type": "code",
      "execution_count": 4,
      "metadata": {
        "colab": {
          "base_uri": "https://localhost:8080/"
        },
        "id": "8Mne3nlDAMv5",
        "outputId": "14aaf928-d532-4bc2-d7ca-387ad61650f6"
      },
      "outputs": [
        {
          "output_type": "stream",
          "name": "stdout",
          "text": [
            "fatal: destination path 'cat' already exists and is not an empty directory.\n"
          ]
        }
      ],
      "source": [
        "!git clone https://github.com/xlsrln/cat"
      ]
    },
    {
      "cell_type": "code",
      "source": [
        "import requests\n",
        "from io import StringIO\n",
        "import pandas as pd\n",
        "import datetime\n",
        "from time import sleep\n",
        "\n",
        "def read_df(string, sep=\"\\t\"):\n",
        "    return pd.read_csv(StringIO(string), sep=sep)\n",
        "\n",
        "car_lookup = pd.read_csv(\"cat/resources/car_lookup.csv\")\n",
        "stage_lookup = pd.read_csv(\"cat/resources/stage_lookup.csv\")\n",
        "\n",
        "champ_class = \"GroupB\"\n",
        "\n",
        "root_url = \"https://www.funselektorfun.com/artofrally/leaderboard/\"\n",
        "\n",
        "with open('cat/resources/cat_stages.txt') as f:\n",
        "    champ_rally = eval(f.read())\n",
        "    f.close()"
      ],
      "metadata": {
        "id": "q-EmPXfvAOpu"
      },
      "execution_count": 10,
      "outputs": []
    },
    {
      "cell_type": "code",
      "source": [
        "def format_time(x):\n",
        "    sign = \"\"\n",
        "    \n",
        "    if x < 0:\n",
        "        sign = \"-\"\n",
        "        x = -x\n",
        "    elif x == 0:\n",
        "        return(\"\")\n",
        "\n",
        "    ob = datetime.datetime.fromtimestamp(x/1000.0)\n",
        "    return sign + f\"00:{ob.minute:02}:{ob.second:02}.{round(ob.microsecond/1000):03}\"\n",
        "\n",
        "def get_wr_and_top10(stage):\n",
        "    request_str = root_url + stage + \"/0/0\"\n",
        "    response = requests.get(request_str)\n",
        "\n",
        "    temp = top10_time = eval(response.text)['leaderboard']\n",
        "\n",
        "    wr_time = temp[0]['score']\n",
        "    top10_time = temp[-1]['score']\n",
        "\n",
        "    return wr_time, top10_time\n",
        "\n",
        "def get_rally_df(event, user=None):\n",
        "    times = []\n",
        "    for n in range(len(champ_rally[event]['stages'])):\n",
        "        x = champ_rally[event]['stages'][n]\n",
        "        w = champ_rally[event]['weather'][n]\n",
        "        c = champ_rally[event]['country']\n",
        "\n",
        "        ws = 'Wet' if w in ['rain', 'snow'] else 'Dry'\n",
        "\n",
        "        stage = stage_lookup.set_index('stage_name').to_dict()['stage'][x]\n",
        "        stage_str = '_'.join([c, stage, ws, champ_class])\n",
        "\n",
        "        # get wr and top 10 times\n",
        "        wr_time, top10_time = get_wr_and_top10(stage_str)\n",
        "\n",
        "        vals = [c, n, x, w, stage_str, wr_time, top10_time]\n",
        "        cols = ['country', 'no', 'stage_name', 'weather', 'stage_str', \n",
        "                  'wr', 'top10', ]\n",
        "\n",
        "        # collect\n",
        "        times.append((x for x in vals))\n",
        "\n",
        "    df = pd.DataFrame(times)\n",
        "    df.columns = cols\n",
        "\n",
        "    df['wr_time'] = df.wr.apply(format_time)\n",
        "    df['top10_time'] = df.top10.apply(format_time)\n",
        "\n",
        "    return df\n",
        "\n",
        "\n",
        "def rally_stats(country):\n",
        "    df = get_rally_df(country)\n",
        "    \n",
        "    print(\"\\nstages:\")\n",
        "    display(df[['stage_name', 'weather', 'wr_time', 'top10_time', ]])\n",
        "\n",
        "    print(\"\\nworld rec time: \" + format_time(df.wr.sum()))\n",
        "    print(\"top10 tot time: \" + format_time(df.top10.sum()))"
      ],
      "metadata": {
        "id": "rqvC61yXAO90"
      },
      "execution_count": 11,
      "outputs": []
    },
    {
      "cell_type": "code",
      "source": [
        "rally_stats('s2_sardinia')"
      ],
      "metadata": {
        "colab": {
          "base_uri": "https://localhost:8080/",
          "height": 296
        },
        "id": "vOH3zr-QAVWN",
        "outputId": "3d0d9731-55e1-49fd-beba-07827af83d81"
      },
      "execution_count": 12,
      "outputs": [
        {
          "output_type": "stream",
          "name": "stdout",
          "text": [
            "\n",
            "stages:\n"
          ]
        },
        {
          "output_type": "display_data",
          "data": {
            "text/plain": [
              "            stage_name weather       wr_time    top10_time\n",
              "0        san benedetto  sunset  00:02:00.745  00:02:03.491\n",
              "1         montevecchio   night  00:02:16.666  00:02:20.124\n",
              "2           villacidro   night  00:01:47.550  00:01:50.267\n",
              "3            gennamari   night  00:02:21.964  00:02:27.451\n",
              "4  san gavino monreale   night  00:01:19.471  00:01:21.966"
            ],
            "text/html": [
              "\n",
              "  <div id=\"df-2b3da9e5-d80a-49c8-a6c4-c4fe8161c857\">\n",
              "    <div class=\"colab-df-container\">\n",
              "      <div>\n",
              "<style scoped>\n",
              "    .dataframe tbody tr th:only-of-type {\n",
              "        vertical-align: middle;\n",
              "    }\n",
              "\n",
              "    .dataframe tbody tr th {\n",
              "        vertical-align: top;\n",
              "    }\n",
              "\n",
              "    .dataframe thead th {\n",
              "        text-align: right;\n",
              "    }\n",
              "</style>\n",
              "<table border=\"1\" class=\"dataframe\">\n",
              "  <thead>\n",
              "    <tr style=\"text-align: right;\">\n",
              "      <th></th>\n",
              "      <th>stage_name</th>\n",
              "      <th>weather</th>\n",
              "      <th>wr_time</th>\n",
              "      <th>top10_time</th>\n",
              "    </tr>\n",
              "  </thead>\n",
              "  <tbody>\n",
              "    <tr>\n",
              "      <th>0</th>\n",
              "      <td>san benedetto</td>\n",
              "      <td>sunset</td>\n",
              "      <td>00:02:00.745</td>\n",
              "      <td>00:02:03.491</td>\n",
              "    </tr>\n",
              "    <tr>\n",
              "      <th>1</th>\n",
              "      <td>montevecchio</td>\n",
              "      <td>night</td>\n",
              "      <td>00:02:16.666</td>\n",
              "      <td>00:02:20.124</td>\n",
              "    </tr>\n",
              "    <tr>\n",
              "      <th>2</th>\n",
              "      <td>villacidro</td>\n",
              "      <td>night</td>\n",
              "      <td>00:01:47.550</td>\n",
              "      <td>00:01:50.267</td>\n",
              "    </tr>\n",
              "    <tr>\n",
              "      <th>3</th>\n",
              "      <td>gennamari</td>\n",
              "      <td>night</td>\n",
              "      <td>00:02:21.964</td>\n",
              "      <td>00:02:27.451</td>\n",
              "    </tr>\n",
              "    <tr>\n",
              "      <th>4</th>\n",
              "      <td>san gavino monreale</td>\n",
              "      <td>night</td>\n",
              "      <td>00:01:19.471</td>\n",
              "      <td>00:01:21.966</td>\n",
              "    </tr>\n",
              "  </tbody>\n",
              "</table>\n",
              "</div>\n",
              "      <button class=\"colab-df-convert\" onclick=\"convertToInteractive('df-2b3da9e5-d80a-49c8-a6c4-c4fe8161c857')\"\n",
              "              title=\"Convert this dataframe to an interactive table.\"\n",
              "              style=\"display:none;\">\n",
              "        \n",
              "  <svg xmlns=\"http://www.w3.org/2000/svg\" height=\"24px\"viewBox=\"0 0 24 24\"\n",
              "       width=\"24px\">\n",
              "    <path d=\"M0 0h24v24H0V0z\" fill=\"none\"/>\n",
              "    <path d=\"M18.56 5.44l.94 2.06.94-2.06 2.06-.94-2.06-.94-.94-2.06-.94 2.06-2.06.94zm-11 1L8.5 8.5l.94-2.06 2.06-.94-2.06-.94L8.5 2.5l-.94 2.06-2.06.94zm10 10l.94 2.06.94-2.06 2.06-.94-2.06-.94-.94-2.06-.94 2.06-2.06.94z\"/><path d=\"M17.41 7.96l-1.37-1.37c-.4-.4-.92-.59-1.43-.59-.52 0-1.04.2-1.43.59L10.3 9.45l-7.72 7.72c-.78.78-.78 2.05 0 2.83L4 21.41c.39.39.9.59 1.41.59.51 0 1.02-.2 1.41-.59l7.78-7.78 2.81-2.81c.8-.78.8-2.07 0-2.86zM5.41 20L4 18.59l7.72-7.72 1.47 1.35L5.41 20z\"/>\n",
              "  </svg>\n",
              "      </button>\n",
              "      \n",
              "  <style>\n",
              "    .colab-df-container {\n",
              "      display:flex;\n",
              "      flex-wrap:wrap;\n",
              "      gap: 12px;\n",
              "    }\n",
              "\n",
              "    .colab-df-convert {\n",
              "      background-color: #E8F0FE;\n",
              "      border: none;\n",
              "      border-radius: 50%;\n",
              "      cursor: pointer;\n",
              "      display: none;\n",
              "      fill: #1967D2;\n",
              "      height: 32px;\n",
              "      padding: 0 0 0 0;\n",
              "      width: 32px;\n",
              "    }\n",
              "\n",
              "    .colab-df-convert:hover {\n",
              "      background-color: #E2EBFA;\n",
              "      box-shadow: 0px 1px 2px rgba(60, 64, 67, 0.3), 0px 1px 3px 1px rgba(60, 64, 67, 0.15);\n",
              "      fill: #174EA6;\n",
              "    }\n",
              "\n",
              "    [theme=dark] .colab-df-convert {\n",
              "      background-color: #3B4455;\n",
              "      fill: #D2E3FC;\n",
              "    }\n",
              "\n",
              "    [theme=dark] .colab-df-convert:hover {\n",
              "      background-color: #434B5C;\n",
              "      box-shadow: 0px 1px 3px 1px rgba(0, 0, 0, 0.15);\n",
              "      filter: drop-shadow(0px 1px 2px rgba(0, 0, 0, 0.3));\n",
              "      fill: #FFFFFF;\n",
              "    }\n",
              "  </style>\n",
              "\n",
              "      <script>\n",
              "        const buttonEl =\n",
              "          document.querySelector('#df-2b3da9e5-d80a-49c8-a6c4-c4fe8161c857 button.colab-df-convert');\n",
              "        buttonEl.style.display =\n",
              "          google.colab.kernel.accessAllowed ? 'block' : 'none';\n",
              "\n",
              "        async function convertToInteractive(key) {\n",
              "          const element = document.querySelector('#df-2b3da9e5-d80a-49c8-a6c4-c4fe8161c857');\n",
              "          const dataTable =\n",
              "            await google.colab.kernel.invokeFunction('convertToInteractive',\n",
              "                                                     [key], {});\n",
              "          if (!dataTable) return;\n",
              "\n",
              "          const docLinkHtml = 'Like what you see? Visit the ' +\n",
              "            '<a target=\"_blank\" href=https://colab.research.google.com/notebooks/data_table.ipynb>data table notebook</a>'\n",
              "            + ' to learn more about interactive tables.';\n",
              "          element.innerHTML = '';\n",
              "          dataTable['output_type'] = 'display_data';\n",
              "          await google.colab.output.renderOutput(dataTable, element);\n",
              "          const docLink = document.createElement('div');\n",
              "          docLink.innerHTML = docLinkHtml;\n",
              "          element.appendChild(docLink);\n",
              "        }\n",
              "      </script>\n",
              "    </div>\n",
              "  </div>\n",
              "  "
            ]
          },
          "metadata": {}
        },
        {
          "output_type": "stream",
          "name": "stdout",
          "text": [
            "\n",
            "world rec time: 00:09:46.396\n",
            "top10 tot time: 00:10:03.299\n"
          ]
        }
      ]
    },
    {
      "cell_type": "code",
      "source": [],
      "metadata": {
        "id": "U14E90VBAtfq"
      },
      "execution_count": null,
      "outputs": []
    }
  ]
}